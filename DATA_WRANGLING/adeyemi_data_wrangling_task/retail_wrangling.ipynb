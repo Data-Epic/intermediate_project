{
 "cells": [
  {
   "cell_type": "markdown",
   "id": "a76f421f-ccf2-4f25-bd93-42047aa7e690",
   "metadata": {},
   "source": [
    "# Week 2 task - Data Wrangling"
   ]
  },
  {
   "cell_type": "markdown",
   "id": "bf8fef4b-acde-44a3-95cb-3bd0756fa72d",
   "metadata": {},
   "source": [
    "### Loading dataset "
   ]
  },
  {
   "cell_type": "code",
   "execution_count": 48,
   "id": "6199f71e-a5cf-4c36-8095-b3f6c3bf39d9",
   "metadata": {},
   "outputs": [
    {
     "data": {
      "text/html": [
       "<div>\n",
       "<style scoped>\n",
       "    .dataframe tbody tr th:only-of-type {\n",
       "        vertical-align: middle;\n",
       "    }\n",
       "\n",
       "    .dataframe tbody tr th {\n",
       "        vertical-align: top;\n",
       "    }\n",
       "\n",
       "    .dataframe thead th {\n",
       "        text-align: right;\n",
       "    }\n",
       "</style>\n",
       "<table border=\"1\" class=\"dataframe\">\n",
       "  <thead>\n",
       "    <tr style=\"text-align: right;\">\n",
       "      <th></th>\n",
       "      <th>InvoiceNo</th>\n",
       "      <th>StockCode</th>\n",
       "      <th>Description</th>\n",
       "      <th>Quantity</th>\n",
       "      <th>InvoiceDate</th>\n",
       "      <th>UnitPrice</th>\n",
       "      <th>CustomerID</th>\n",
       "      <th>Country</th>\n",
       "    </tr>\n",
       "  </thead>\n",
       "  <tbody>\n",
       "    <tr>\n",
       "      <th>0</th>\n",
       "      <td>536365</td>\n",
       "      <td>85123A</td>\n",
       "      <td>WHITE HANGING HEART T-LIGHT HOLDER</td>\n",
       "      <td>6</td>\n",
       "      <td>01/12/2010 08:26</td>\n",
       "      <td>2.55</td>\n",
       "      <td>17850.0</td>\n",
       "      <td>United Kingdom</td>\n",
       "    </tr>\n",
       "    <tr>\n",
       "      <th>1</th>\n",
       "      <td>536365</td>\n",
       "      <td>71053</td>\n",
       "      <td>WHITE METAL LANTERN</td>\n",
       "      <td>6</td>\n",
       "      <td>01/12/2010 08:26</td>\n",
       "      <td>3.39</td>\n",
       "      <td>17850.0</td>\n",
       "      <td>United Kingdom</td>\n",
       "    </tr>\n",
       "    <tr>\n",
       "      <th>2</th>\n",
       "      <td>536365</td>\n",
       "      <td>84406B</td>\n",
       "      <td>CREAM CUPID HEARTS COAT HANGER</td>\n",
       "      <td>8</td>\n",
       "      <td>01/12/2010 08:26</td>\n",
       "      <td>2.75</td>\n",
       "      <td>17850.0</td>\n",
       "      <td>United Kingdom</td>\n",
       "    </tr>\n",
       "    <tr>\n",
       "      <th>3</th>\n",
       "      <td>536365</td>\n",
       "      <td>84029G</td>\n",
       "      <td>KNITTED UNION FLAG HOT WATER BOTTLE</td>\n",
       "      <td>6</td>\n",
       "      <td>01/12/2010 08:26</td>\n",
       "      <td>3.39</td>\n",
       "      <td>17850.0</td>\n",
       "      <td>United Kingdom</td>\n",
       "    </tr>\n",
       "    <tr>\n",
       "      <th>4</th>\n",
       "      <td>536365</td>\n",
       "      <td>84029E</td>\n",
       "      <td>RED WOOLLY HOTTIE WHITE HEART.</td>\n",
       "      <td>6</td>\n",
       "      <td>01/12/2010 08:26</td>\n",
       "      <td>3.39</td>\n",
       "      <td>17850.0</td>\n",
       "      <td>United Kingdom</td>\n",
       "    </tr>\n",
       "    <tr>\n",
       "      <th>...</th>\n",
       "      <td>...</td>\n",
       "      <td>...</td>\n",
       "      <td>...</td>\n",
       "      <td>...</td>\n",
       "      <td>...</td>\n",
       "      <td>...</td>\n",
       "      <td>...</td>\n",
       "      <td>...</td>\n",
       "    </tr>\n",
       "    <tr>\n",
       "      <th>541904</th>\n",
       "      <td>581587</td>\n",
       "      <td>22613</td>\n",
       "      <td>PACK OF 20 SPACEBOY NAPKINS</td>\n",
       "      <td>12</td>\n",
       "      <td>09/12/2011 12:50</td>\n",
       "      <td>0.85</td>\n",
       "      <td>12680.0</td>\n",
       "      <td>France</td>\n",
       "    </tr>\n",
       "    <tr>\n",
       "      <th>541905</th>\n",
       "      <td>581587</td>\n",
       "      <td>22899</td>\n",
       "      <td>CHILDREN'S APRON DOLLY GIRL</td>\n",
       "      <td>6</td>\n",
       "      <td>09/12/2011 12:50</td>\n",
       "      <td>2.10</td>\n",
       "      <td>12680.0</td>\n",
       "      <td>France</td>\n",
       "    </tr>\n",
       "    <tr>\n",
       "      <th>541906</th>\n",
       "      <td>581587</td>\n",
       "      <td>23254</td>\n",
       "      <td>CHILDRENS CUTLERY DOLLY GIRL</td>\n",
       "      <td>4</td>\n",
       "      <td>09/12/2011 12:50</td>\n",
       "      <td>4.15</td>\n",
       "      <td>12680.0</td>\n",
       "      <td>France</td>\n",
       "    </tr>\n",
       "    <tr>\n",
       "      <th>541907</th>\n",
       "      <td>581587</td>\n",
       "      <td>23255</td>\n",
       "      <td>CHILDRENS CUTLERY CIRCUS PARADE</td>\n",
       "      <td>4</td>\n",
       "      <td>09/12/2011 12:50</td>\n",
       "      <td>4.15</td>\n",
       "      <td>12680.0</td>\n",
       "      <td>France</td>\n",
       "    </tr>\n",
       "    <tr>\n",
       "      <th>541908</th>\n",
       "      <td>581587</td>\n",
       "      <td>22138</td>\n",
       "      <td>BAKING SET 9 PIECE RETROSPOT</td>\n",
       "      <td>3</td>\n",
       "      <td>09/12/2011 12:50</td>\n",
       "      <td>4.95</td>\n",
       "      <td>12680.0</td>\n",
       "      <td>France</td>\n",
       "    </tr>\n",
       "  </tbody>\n",
       "</table>\n",
       "<p>541909 rows × 8 columns</p>\n",
       "</div>"
      ],
      "text/plain": [
       "       InvoiceNo StockCode                          Description  Quantity  \\\n",
       "0         536365    85123A   WHITE HANGING HEART T-LIGHT HOLDER         6   \n",
       "1         536365     71053                  WHITE METAL LANTERN         6   \n",
       "2         536365    84406B       CREAM CUPID HEARTS COAT HANGER         8   \n",
       "3         536365    84029G  KNITTED UNION FLAG HOT WATER BOTTLE         6   \n",
       "4         536365    84029E       RED WOOLLY HOTTIE WHITE HEART.         6   \n",
       "...          ...       ...                                  ...       ...   \n",
       "541904    581587     22613          PACK OF 20 SPACEBOY NAPKINS        12   \n",
       "541905    581587     22899         CHILDREN'S APRON DOLLY GIRL          6   \n",
       "541906    581587     23254        CHILDRENS CUTLERY DOLLY GIRL          4   \n",
       "541907    581587     23255      CHILDRENS CUTLERY CIRCUS PARADE         4   \n",
       "541908    581587     22138        BAKING SET 9 PIECE RETROSPOT          3   \n",
       "\n",
       "             InvoiceDate  UnitPrice  CustomerID         Country  \n",
       "0       01/12/2010 08:26       2.55     17850.0  United Kingdom  \n",
       "1       01/12/2010 08:26       3.39     17850.0  United Kingdom  \n",
       "2       01/12/2010 08:26       2.75     17850.0  United Kingdom  \n",
       "3       01/12/2010 08:26       3.39     17850.0  United Kingdom  \n",
       "4       01/12/2010 08:26       3.39     17850.0  United Kingdom  \n",
       "...                  ...        ...         ...             ...  \n",
       "541904  09/12/2011 12:50       0.85     12680.0          France  \n",
       "541905  09/12/2011 12:50       2.10     12680.0          France  \n",
       "541906  09/12/2011 12:50       4.15     12680.0          France  \n",
       "541907  09/12/2011 12:50       4.15     12680.0          France  \n",
       "541908  09/12/2011 12:50       4.95     12680.0          France  \n",
       "\n",
       "[541909 rows x 8 columns]"
      ]
     },
     "execution_count": 48,
     "metadata": {},
     "output_type": "execute_result"
    }
   ],
   "source": [
    "import pandas as pd\n",
    "import numpy as np\n",
    "import matplotlib.pyplot as plt\n",
    "import re\n",
    "df = pd.read_csv(\"Online Retail_csv.csv\")\n",
    "df"
   ]
  },
  {
   "cell_type": "markdown",
   "id": "0b7e4310-3ce0-4e7b-ac9f-336851e8cc99",
   "metadata": {},
   "source": [
    "# Identifying missing values"
   ]
  },
  {
   "cell_type": "code",
   "execution_count": 38,
   "id": "df6154e7-fe08-47ef-9bf2-61d491868a3d",
   "metadata": {},
   "outputs": [
    {
     "name": "stdout",
     "output_type": "stream",
     "text": [
      "No of missing Values in columns: \n",
      " InvoiceNo           0\n",
      "StockCode           0\n",
      "Description      1454\n",
      "Quantity            0\n",
      "InvoiceDate         0\n",
      "UnitPrice           0\n",
      "CustomerID     135080\n",
      "Country             0\n",
      "dtype: int64\n",
      "Percentage of missing values in CustomerID:25\n",
      "Percentage of missing values in Description:0.002683107311375157\n"
     ]
    }
   ],
   "source": [
    "#identifying cols with missing vals\n",
    "print(\"No of missing Values in columns: \\n\", df.isnull().sum())\n",
    "missing_vals_cust = df[\"CustomerID\"].isnull().sum() #sum of missing vals in customerID\n",
    "missing_vals_descrp = df[\"Description\"].isnull().sum() #sum of missing vals in description column\n",
    "total = df[\"CustomerID\"].shape[0]\n",
    "total\n",
    "print(f\"Percentage of missing values in CustomerID:{round(missing_vals_cust/total * 100)}\")\n",
    "print(f\"Percentage of missing values in Description:{missing_vals_descrp/total}\")"
   ]
  },
  {
   "cell_type": "markdown",
   "id": "b7906f0c-ef86-4e2a-954d-29ebb746775a",
   "metadata": {},
   "source": [
    "# Handling missing values"
   ]
  },
  {
   "cell_type": "code",
   "execution_count": 39,
   "id": "f57f8e82-647b-4813-b016-ab04443ab573",
   "metadata": {},
   "outputs": [
    {
     "name": "stderr",
     "output_type": "stream",
     "text": [
      "C:\\Users\\ayemi\\AppData\\Local\\Temp\\ipykernel_19912\\2421204777.py:5: FutureWarning: DataFrame.fillna with 'method' is deprecated and will raise in a future version. Use obj.ffill() or obj.bfill() instead.\n",
      "  df2 = df1.fillna(method=\"bfill\") #filled the null values with the next CustomerID\n"
     ]
    },
    {
     "data": {
      "text/plain": [
       "InvoiceNo      0\n",
       "StockCode      0\n",
       "Description    0\n",
       "Quantity       0\n",
       "InvoiceDate    0\n",
       "UnitPrice      0\n",
       "CustomerID     0\n",
       "Country        0\n",
       "dtype: int64"
      ]
     },
     "execution_count": 39,
     "metadata": {},
     "output_type": "execute_result"
    }
   ],
   "source": [
    "#Number of missing vals in Descrp col is very small, almost insignificant, hence the strategic approach will be to delete thee column\n",
    "df1 = df.dropna(subset=[\"Description\"])\n",
    "df1\n",
    "#The IDs in the customer data are not unique, they are repeated for some customers. \n",
    "df2 = df1.fillna(method=\"bfill\") #filled the null values with the next CustomerID\n",
    "df2.isnull().sum()"
   ]
  },
  {
   "cell_type": "markdown",
   "id": "b5336eaa-abf9-459f-96bf-1d6c73e58857",
   "metadata": {},
   "source": [
    "## Checking for duplicate values"
   ]
  },
  {
   "cell_type": "code",
   "execution_count": 40,
   "id": "3045f900-d9c9-4aec-ab95-e2d568477c46",
   "metadata": {},
   "outputs": [],
   "source": [
    "dup = df2[df2.duplicated()]\n",
    "dup\n",
    "no_dup = df2.drop_duplicates(inplace=True) #Removing all duplicates in the Retail Dataset"
   ]
  },
  {
   "cell_type": "markdown",
   "id": "c1a1a096-5765-47d9-8e4e-0db3e1988e2b",
   "metadata": {},
   "source": [
    "## Datatype mismatches "
   ]
  },
  {
   "cell_type": "code",
   "execution_count": 41,
   "id": "50798bc2-873f-4427-be28-48939962c04f",
   "metadata": {},
   "outputs": [],
   "source": [
    "df2.dtypes\n",
    "# InvoiceNo, StockCode, description, country and customer ID should be in string formamt\n",
    "df2[\"InvoiceNo\"] = df2[\"InvoiceNo\"].astype(str)\n",
    "df2[\"StockCode\"] = df2[\"StockCode\"].astype(str)\n",
    "df2[\"Description\"] = df2[\"Description\"].astype(str)\n",
    "df2[\"CustomerID\"] = df2[\"CustomerID\"].astype(str)\n",
    "df2[\"Country\"] = df2[\"Country\"].astype(str)"
   ]
  },
  {
   "cell_type": "markdown",
   "id": "6778d2d8-7706-4d0d-a975-3411154e2bdb",
   "metadata": {},
   "source": [
    "## Invalid values - Quantity"
   ]
  },
  {
   "cell_type": "code",
   "execution_count": 42,
   "id": "623adb2e-5437-464b-b7dd-5a4a6fd801fd",
   "metadata": {},
   "outputs": [
    {
     "name": "stdout",
     "output_type": "stream",
     "text": [
      "Negative Quantity vals: 0\n"
     ]
    }
   ],
   "source": [
    "df2.loc[df2['Quantity'] < 0, 'Quantity'] = np.nan #replaced negattive values with nan\n",
    "for i in df2[\"Quantity\"]:\n",
    "    counter = 0\n",
    "    if i < 0:\n",
    "        counter += 1\n",
    "\n",
    "print(\"Negative Quantity vals:\",counter)\n",
    "\n",
    "\n",
    "#QUANTITY VALS SHOULD NOT BE NEGATIVE. replaced all negative quantity with nan"
   ]
  },
  {
   "cell_type": "markdown",
   "id": "6f95caee-f411-4f2f-bb11-d35871efdb2b",
   "metadata": {},
   "source": [
    "## Checking inconsistent formating in columns"
   ]
  },
  {
   "cell_type": "code",
   "execution_count": 43,
   "id": "1593be54-8002-4f63-bf28-0085911101b1",
   "metadata": {},
   "outputs": [],
   "source": [
    "# pattern definitions\n",
    "invoice_no_pattern = r'^(C)?\\d{6}$'\n",
    "stock_code_pattern = r'^\\d{5}$'\n",
    "description_pattern = r'^(?!\\d). + '\n",
    "quantity_pattern = r'^\\d+$'\n",
    "date_pattern = r'^\\d{4}-\\d{2}-\\d{2} \\d{2}:\\d{2}:\\d{2}$'\n",
    "unit_price_pattern = r'^\\d+\\.\\d{2}$'\n",
    "customer_id_pattern = r'^\\d{5}$'\n",
    "country_pattern = r'^[a-zA-Z\\s]+$'\n",
    "\n",
    "#inconsistencies in Invoice col\n",
    "inconsistent_invoice = df2[~df2[\"InvoiceNo\"].astype(str).str.match(invoice_no_pattern)]\n",
    "inconsistent_invoice\n",
    "#Inconsistencies in stock col\n",
    "inconsistent_stock = df2[~df2[\"StockCode\"].astype(str).str.match(stock_code_pattern)]\n",
    "inconsistent_stock\n",
    "\n",
    "#checkinng inconsistencies in descrp col\n",
    "inconsistrnt_descrp = df2[~df2[\"Description\"].astype(str).str.match(description_pattern)]\n",
    "\n",
    "#checking inconsistencies in quantity col\n",
    "inconsistent_quan = df2[~df2[\"Quantity\"].astype(str).str.match(quantity_pattern)]\n",
    "\n",
    "#chhecking inconsistencies in date col\n",
    "inconsistent_date = df2[~df2[\"InvoiceDate\"].astype(str).str.match(date_pattern)]\n",
    "\n",
    "#checking inconsistencies in prices col\n",
    "inconsistent_price = df2[~df2[\"UnitPrice\"].astype(str).str.match(unit_price_pattern)]\n",
    "\n",
    "#checking inconsistencies in customer col\n",
    "inconsistent_custm = df2[~df2[\"CustomerID\"].astype(str).str.match(customer_id_pattern)]\n",
    "\n",
    "#checking inconsistencies in country col\n",
    "inconsistent_ctry = df2[~df2[\"Country\"].astype(str).str.match(country_pattern)]\n",
    "\n",
    "\n"
   ]
  },
  {
   "cell_type": "markdown",
   "id": "41544f16-47da-4233-8de6-bfa085c78c92",
   "metadata": {},
   "source": [
    "## Handling the inconsistent formating in columns"
   ]
  },
  {
   "cell_type": "code",
   "execution_count": 49,
   "id": "089f93f7-dd0a-4c0e-a25e-c73a81f8abd6",
   "metadata": {},
   "outputs": [],
   "source": [
    "\n",
    "#InvoiceNo - remove rows with inconsistency\n",
    "# df3 = df3[df3[\"InvoiceNo\"].as\n",
    "\n",
    "#Stock code - remove rows with more than 5 digits i.e only 5 digits should represent a stock code\n",
    "df2[\"StockCode\"] = df2[\"StockCode\"].str.extract(\"(\\d{5})\")\n",
    "\n",
    "#removing special characters in descrp col\n",
    "df2['Description'] = df2['Description'].apply(lambda x: re.sub(r'[^\\w\\s]', '', x))\n",
    "\n",
    "#Unit Price - convert to standardized rounding decimal places\n",
    "df2[\"UnitPrice\"] = df2[\"UnitPrice\"].round(2)\n",
    "\n",
    "# Country - country name sshould be in title case\n",
    "df2[\"Country\"] = df2[\"Country\"].str.title()\n",
    "\n"
   ]
  },
  {
   "cell_type": "code",
   "execution_count": 51,
   "id": "f5dd2948-a4a9-4290-969f-72bb413b1e8e",
   "metadata": {},
   "outputs": [
    {
     "data": {
      "text/html": [
       "<div>\n",
       "<style scoped>\n",
       "    .dataframe tbody tr th:only-of-type {\n",
       "        vertical-align: middle;\n",
       "    }\n",
       "\n",
       "    .dataframe tbody tr th {\n",
       "        vertical-align: top;\n",
       "    }\n",
       "\n",
       "    .dataframe thead th {\n",
       "        text-align: right;\n",
       "    }\n",
       "</style>\n",
       "<table border=\"1\" class=\"dataframe\">\n",
       "  <thead>\n",
       "    <tr style=\"text-align: right;\">\n",
       "      <th></th>\n",
       "      <th>Quantity</th>\n",
       "      <th>UnitPrice</th>\n",
       "    </tr>\n",
       "  </thead>\n",
       "  <tbody>\n",
       "    <tr>\n",
       "      <th>count</th>\n",
       "      <td>525462.000000</td>\n",
       "      <td>535187.000000</td>\n",
       "    </tr>\n",
       "    <tr>\n",
       "      <th>mean</th>\n",
       "      <td>10.681024</td>\n",
       "      <td>4.645242</td>\n",
       "    </tr>\n",
       "    <tr>\n",
       "      <th>std</th>\n",
       "      <td>157.399272</td>\n",
       "      <td>97.364810</td>\n",
       "    </tr>\n",
       "    <tr>\n",
       "      <th>min</th>\n",
       "      <td>1.000000</td>\n",
       "      <td>-11062.060000</td>\n",
       "    </tr>\n",
       "    <tr>\n",
       "      <th>25%</th>\n",
       "      <td>1.000000</td>\n",
       "      <td>1.250000</td>\n",
       "    </tr>\n",
       "    <tr>\n",
       "      <th>50%</th>\n",
       "      <td>4.000000</td>\n",
       "      <td>2.080000</td>\n",
       "    </tr>\n",
       "    <tr>\n",
       "      <th>75%</th>\n",
       "      <td>11.000000</td>\n",
       "      <td>4.130000</td>\n",
       "    </tr>\n",
       "    <tr>\n",
       "      <th>max</th>\n",
       "      <td>80995.000000</td>\n",
       "      <td>38970.000000</td>\n",
       "    </tr>\n",
       "  </tbody>\n",
       "</table>\n",
       "</div>"
      ],
      "text/plain": [
       "            Quantity      UnitPrice\n",
       "count  525462.000000  535187.000000\n",
       "mean       10.681024       4.645242\n",
       "std       157.399272      97.364810\n",
       "min         1.000000  -11062.060000\n",
       "25%         1.000000       1.250000\n",
       "50%         4.000000       2.080000\n",
       "75%        11.000000       4.130000\n",
       "max     80995.000000   38970.000000"
      ]
     },
     "execution_count": 51,
     "metadata": {},
     "output_type": "execute_result"
    }
   ],
   "source": [
    "df2.describe()\n",
    "# Minimumm value for unit price is negative, so we ned to remove negative values as they are  not needed\n"
   ]
  },
  {
   "cell_type": "code",
   "execution_count": 54,
   "id": "38d5a6d3-e03b-459d-a5bb-43a2bb369b0a",
   "metadata": {},
   "outputs": [
    {
     "data": {
      "text/html": [
       "<div>\n",
       "<style scoped>\n",
       "    .dataframe tbody tr th:only-of-type {\n",
       "        vertical-align: middle;\n",
       "    }\n",
       "\n",
       "    .dataframe tbody tr th {\n",
       "        vertical-align: top;\n",
       "    }\n",
       "\n",
       "    .dataframe thead th {\n",
       "        text-align: right;\n",
       "    }\n",
       "</style>\n",
       "<table border=\"1\" class=\"dataframe\">\n",
       "  <thead>\n",
       "    <tr style=\"text-align: right;\">\n",
       "      <th></th>\n",
       "      <th>Quantity</th>\n",
       "      <th>UnitPrice</th>\n",
       "    </tr>\n",
       "  </thead>\n",
       "  <tbody>\n",
       "    <tr>\n",
       "      <th>count</th>\n",
       "      <td>524874.000000</td>\n",
       "      <td>524874.000000</td>\n",
       "    </tr>\n",
       "    <tr>\n",
       "      <th>mean</th>\n",
       "      <td>10.616674</td>\n",
       "      <td>3.922602</td>\n",
       "    </tr>\n",
       "    <tr>\n",
       "      <th>std</th>\n",
       "      <td>156.280624</td>\n",
       "      <td>36.093163</td>\n",
       "    </tr>\n",
       "    <tr>\n",
       "      <th>min</th>\n",
       "      <td>1.000000</td>\n",
       "      <td>0.040000</td>\n",
       "    </tr>\n",
       "    <tr>\n",
       "      <th>25%</th>\n",
       "      <td>1.000000</td>\n",
       "      <td>1.250000</td>\n",
       "    </tr>\n",
       "    <tr>\n",
       "      <th>50%</th>\n",
       "      <td>4.000000</td>\n",
       "      <td>2.080000</td>\n",
       "    </tr>\n",
       "    <tr>\n",
       "      <th>75%</th>\n",
       "      <td>11.000000</td>\n",
       "      <td>4.130000</td>\n",
       "    </tr>\n",
       "    <tr>\n",
       "      <th>max</th>\n",
       "      <td>80995.000000</td>\n",
       "      <td>13541.330000</td>\n",
       "    </tr>\n",
       "  </tbody>\n",
       "</table>\n",
       "</div>"
      ],
      "text/plain": [
       "            Quantity      UnitPrice\n",
       "count  524874.000000  524874.000000\n",
       "mean       10.616674       3.922602\n",
       "std       156.280624      36.093163\n",
       "min         1.000000       0.040000\n",
       "25%         1.000000       1.250000\n",
       "50%         4.000000       2.080000\n",
       "75%        11.000000       4.130000\n",
       "max     80995.000000   13541.330000"
      ]
     },
     "execution_count": 54,
     "metadata": {},
     "output_type": "execute_result"
    }
   ],
   "source": [
    "df2 = df2[df2[\"UnitPrice\"]>0]\n",
    "df2.describe()"
   ]
  },
  {
   "cell_type": "markdown",
   "id": "5e9858df-db11-4bbe-8cb3-10c4e31f7f94",
   "metadata": {},
   "source": [
    "# Outliers -Quantity"
   ]
  },
  {
   "cell_type": "code",
   "execution_count": 67,
   "id": "7a0c6c3f-f6b9-4194-b32e-9252e9cc2303",
   "metadata": {},
   "outputs": [
    {
     "data": {
      "text/plain": [
       "Text(0.5, 1.0, 'UnitPrice')"
      ]
     },
     "execution_count": 67,
     "metadata": {},
     "output_type": "execute_result"
    },
    {
     "data": {
      "image/png": "[encoded data removed]",
      "text/plain": [
       "<Figure size 800x400 with 2 Axes>"
      ]
     },
     "metadata": {},
     "output_type": "display_data"
    }
   ],
   "source": [
    "# Numerical columnds are the quantity and unitprice cols, so i'll be using box plot viusalisation to show the outliers of each columns\n",
    "\n",
    "fig, axes = plt.subplots(1, 2, figsize=(8, 4))\n",
    "#Quantity: Most values are within the range of 0 to 10000,  and there are two outluiers around 70000 and 80000\n",
    "axes[0].boxplot(df2[\"Quantity\"])\n",
    "axes[0].set_title(\"Quantity\")\n",
    "#UnitPrice: Values are within the range of 1 and 4000, 3 ooutliers present between 8000 and 14000\n",
    "axes[1].boxplot(df2[\"UnitPrice\"])\n",
    "axes[1].set_title(\"UnitPrice\")\n"
   ]
  },
  {
   "cell_type": "markdown",
   "id": "f630833a-0632-4296-aaaa-cbf97f39fb43",
   "metadata": {},
   "source": [
    "## Cleaned data"
   ]
  },
  {
   "cell_type": "code",
   "execution_count": 71,
   "id": "e721bea7-96fb-4025-ab6f-5ad189d94506",
   "metadata": {},
   "outputs": [],
   "source": [
    "df2.to_csv(\"cleaned_retail.csv\", index=False)"
   ]
  }
 ],
 "metadata": {
  "kernelspec": {
   "display_name": "Python 3 (ipykernel)",
   "language": "python",
   "name": "python3"
  },
  "language_info": {
   "codemirror_mode": {
    "name": "ipython",
    "version": 3
   },
   "file_extension": ".py",
   "mimetype": "text/x-python",
   "name": "python",
   "nbconvert_exporter": "python",
   "pygments_lexer": "ipython3",
   "version": "3.11.7"
  }
 },
 "nbformat": 4,
 "nbformat_minor": 5
}
