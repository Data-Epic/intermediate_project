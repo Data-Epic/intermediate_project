{
 "cells": [
  {
   "cell_type": "code",
   "execution_count": 1,
   "metadata": {},
   "outputs": [],
   "source": [
    "# %pip install regex\n",
    "\n",
    "import regex as re"
   ]
  },
  {
   "cell_type": "code",
   "execution_count": 2,
   "metadata": {},
   "outputs": [
    {
     "name": "stdout",
     "output_type": "stream",
     "text": [
      "COVID-19\n",
      "COVID-19\n",
      "COVID-19\n",
      "COVID-19\n",
      "COVID-19\n",
      "COVID-19\n",
      "COVID-19\n",
      "COVID-19\n",
      "COVID-19\n",
      "COVID-19\n",
      "COVID-19\n",
      "COVID-19\n",
      "COVID-19\n",
      "COVID-19\n",
      "COVID-17\n",
      "COVID-19\n",
      "COVID-18\n",
      "covid-19\n",
      "COVID-19\n",
      "COVID-19\n",
      "COVID-19\n",
      "COVID-19\n",
      "covid-19\n",
      "COVID-19\n"
     ]
    }
   ],
   "source": [
    "text = \"\"\"\n",
    "The impact of COVID-19 on the global healthcare system has been significant. Many hospitals are facing challenges due to the COVID-19 pandemic. \n",
    "The COVID-19 virus has led to an increase in the need for medical supplies. Furthermore, research on COVID-19 continues to be a priority for \n",
    "scientists worldwide. COVID-19 vaccinations have been rolled out globally to combat the spread of the virus. Studies on COVID-19 have \n",
    "revealed various mutations, making it harder to control. Healthcare workers are on the frontlines of the COVID-19 battle, providing care \n",
    "to those affected by COVID-19. The World Health Organization has issued guidelines to help countries manage COVID-19 outbreaks. Efforts to \n",
    "develop effective treatments for COVID-19 are ongoing. Public health campaigns are raising awareness about COVID-19 prevention measures. \n",
    "The economic impact of COVID-19 has been profound, affecting businesses and employment. Governments have implemented lockdowns to curb the \n",
    "spread of COVID-19. Social distancing and wearing masks are recommended to reduce COVID-19 transmission. Vaccination programs are crucial \n",
    "in the fight against COVID-17. Despite the challenges posed by COVID-19, communities are coming together to support one another. \n",
    "The healthcare sector is adapting to the demands of COVID-18, ensuring that essential services continue. covid-19 testing and contact tracing \n",
    "are essential tools in managing the pandemic. Research on COVID-19 variants is helping to understand how the virus evolves. The global \n",
    "response to COVID-19 has highlighted the importance of international cooperation. Governments are working to secure vaccines to protect \n",
    "their populations from COVID-19. Public health officials are urging people to get vaccinated to achieve herd immunity against COVID-19. \n",
    "The development of covid-19 vaccines in record time is a testament to scientific innovation. Efforts to educate the public about COVID-19 \n",
    "vaccines are crucial in overcoming vaccine hesitancy.\"\"\"\n",
    "\n",
    "\n",
    "# pattern = r'\\bcovid-?19\\b' | r'\\bcovid-?\\d\\d\\b'\n",
    "\n",
    "pattern = re.findall(r'\\bCOVID-\\d\\d\\b', text, re.IGNORECASE)\n",
    "\n",
    "for expression in pattern:\n",
    "    print(expression)\n"
   ]
  },
  {
   "cell_type": "code",
   "execution_count": null,
   "metadata": {},
   "outputs": [],
   "source": []
  }
 ],
 "metadata": {
  "kernelspec": {
   "display_name": "Python 3",
   "language": "python",
   "name": "python3"
  },
  "language_info": {
   "codemirror_mode": {
    "name": "ipython",
    "version": 3
   },
   "file_extension": ".py",
   "mimetype": "text/x-python",
   "name": "python",
   "nbconvert_exporter": "python",
   "pygments_lexer": "ipython3",
   "version": "3.12.1"
  }
 },
 "nbformat": 4,
 "nbformat_minor": 2
}
